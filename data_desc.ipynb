# Question

"Q1": "어떤 일을 하는 것이 유용하지 않다면, 당신이 어떤 일을 한 진짜 이유를 누구에게도 말하지 마세요.",

"Q2" : "사람을 다루는 가장 좋은 방법은 그들이 듣고 싶은 것을 말하는 것입니다.",

"Q3" : "도덕적으로 옳다고 확신할 때만 조치를 취해야 한다.",

"Q4" : "대부분의 사람들은 기본적으로 착하고 친절합니다.",

"Q5" : "모든 사람은 악질적인 성향을 가지고 있으며 기회가 주어졌을 때 나올 것이라고 가정하는 것이 가장 안전하다." ,

"Q6" : 비밀,

"Q7" : "다른 사람에게 거짓말을 하는 것은 변명의 여지가 없습니다.",

"Q8" : "일반적으로, 사람들은 강요받지 않는 한 열심히 일하지 않을 것이다.",

"Q9" : "대체로 중요하고 정직하지 않은 것보다는 겸손하고 정직한 것이 낫다.",

"Q10" : "당신이 누군가에게 당신을 위해 무언가를 해달라고 요청할 때, 더 중요한 이유를 제공하는 것보다 그것을 원하는 진짜 이유를 제공하는 것이 가장 좋습니다.",

"Q11" : "세상에서 출세하는 대부분의 사람들은 깨끗하고 도덕적인 삶을 산다.",

"Q12" : "다른 사람을 전적으로 신뢰하는 사람은 문제를 요청하는 것입니다.",

"Q13" : "대부분의 범죄자들과 다른 사람들의 가장 큰 차이점은 범인들이 잡힐 만큼 멍청하다는 것이다.",

"Q14" : 비밀,

"Q15" : "중요한 사람들에게 아부하는 것이 현명하다.",

"Q16" : "모든 면에서 좋은 것이 가능하다.",

"Q17" : "P.T. 바넘이 매분마다 어리버리가 태어난다고 했을 때는 틀렸습니다.",

"Q18" : 비밀,

"Q19" : "불치병을 앓고 있는 사람들은 고통 없이 사형에 처해질 수 있는 선택권을 가져야 한다.",

"Q20" : "대부분의 사람들은 재산을 잃는 것보다 부모님의 죽음을 더 쉽게 잊어버린다."

"Q21 ~ 26" : 시크릿


country : 국가 (사용자의 네트워크 지역)

질의응답 시간
- introelapse
- testelapse
- surveyelapse

## 10가지 항목 성격 검사 (TIPI, Ten - Item Personality Inventory)
TIPI1	Extraverted, enthusiastic. (나는 외향적이고 열정적이다.)

TIPI2	Critical, quarrelsome.  (나는 비판적이고 논쟁을 좋아한다.)

TIPI3	Dependable, self-disciplined. (나는 사람들에게 신뢰를 얻는편이고, 자기관리가 가능하다.)

TIPI4	Anxious, easily upset. (나는 불안하고 화를 잘내는 편이다.)

TIPI5	Open to new experiences, complex. (나는 새로운 것을 경험하기 좋아하고, 생각이 다소 많은 편이다.)

TIPI6	Reserved, quiet. (나는 내향적이고, 조용하다.)

TIPI7	Sympathetic, warm. (나는 동정심이 많고, 다정한 사람이다.)

TIPI8	Disorganized, careless. (나는 계획적이지 않고 조심성이 없다.)

TIPI9	Calm, emotionally stable. (나는 침착하고 기분이 안정적이다.)

TIPI10	Conventional, uncreative. (나는 변화를 싫어하고 창의적이지 않다.)



The TIPI items were rated "I see myself as:" _____ such that
(TIPI 항목은 "나는 나 자신을 ___라고 생각한다."로 되어있다.)


1 = Disagree strongly
(강하게 반대한다.)

2 = Disagree moderately
(적당히 동의하지 않는다.)

3 = Disagree a little
(약간 동의하지 않는다.)

4 = Neither agree nor disagree
(동의하지도, 동의안하지도 않는다.)

5 = Agree a little
(약간 동의한다.)

6 = Agree moderately
(적당히 동의한다.)

7 = Agree strongly
(강하게 동의한다.)

채점
- 성실성 : {3번 점수 + (8 - '8번 점수')} ÷ 2
- 우호성 : {7번 점수 + (8 - '2번 점수')} ÷ 2
- 정서적 안정성(점수가 낮으면 신경성과 관련): {9번 점수 + (8 - '4번 점수')} ÷ 2
- 개방성 : {5번 점수 + (8 - '10번 점수')} ÷ 2
- 외향성 : {1번 점수 + (8 - '6번 점수')} ÷ 2


성인 평균 점수
-성실성                    평균 4.61 / 높음 6.0이상 / 낮음 3.2 이하
-우호성                    평균 4.69 / 높음 6.0이상 / 낮음 3.5 이하
-정서적 안정성          평균 4.34 / 높음 6.0이상 / 낮음 2.9 이하
-개방성                    평균 5.51 / 높음 6.0이상 / 낮음 4.4 이하
-외향성                    평균 3.98 / 높음 6.0이상 / 낮음 2.4 이하
*미국 성인의 기준으로, 우리나라의 성인 평균과는 약간 다를 수 있습니다.

(https://m.blog.naver.com/PostView.naver?isHttpsRedirect=true&blogId=bhtalk&logNo=220747143871)

The following items were presented as a check-list and subjects were instructed
(다음 항목을 체크리스트로 제시하고 시험자에게 지시하였다.)

"In the grid below, check all the words whose definitions you are sure you know":
(아래 그리드에서 정의가 확실한 모든 단어를 체크해라.)


VCL1	boat (보트)

VCL2	incoherent (일관성 없음)

VCL3	pallid (창백한 색)

VCL4	robot (로봇)

VCL5	audible (들을 수 있는)

VCL6	cuivocal (큐비보컬) ?

VCL7	paucity (부족)

VCL8	epistemology (인식론)

VCL9	florted (떠있다)

VCL10	decide (결정하다)

VCL11	pastiche (모방 작품, 합성 작품)

VCL12	verdid () ?

VCL13	abysmal (이상)

VCL14	lucid (투명도)

VCL15	betray (배신)

VCL16	funny (웃긴)
